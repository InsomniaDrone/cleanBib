{
 "cells": [
  {
   "cell_type": "code",
   "execution_count": null,
   "metadata": {
    "collapsed": true
   },
   "outputs": [],
   "source": [
    "from pybtex.database.input import bibtex\n",
    "import glob\n",
    "import csv\n",
    "\n",
    "baseDirectory = \"/Users/dalezhou/Downloads/bib/\"\n",
    "ID = glob.glob(baseDirectory + '*bib')\n",
    "print(ID)  # Print number of files read\n",
    "\n",
    "FA = []\n",
    "LA = []\n",
    "\n",
    "parser = bibtex.Parser()\n",
    "bib_data = parser.parse_file(ID[0])\n",
    "counter = 1\n",
    "outPath = baseDirectory + 'cleanedBib.csv'\n",
    "with open(outPath, 'w', newline='') as csvfile:\n",
    "    writer = csv.writer(csvfile, delimiter=',',\n",
    "                            quotechar='|', quoting=csv.QUOTE_MINIMAL)\n",
    "    writer.writerow(['Article', 'FA', 'LA'])\n",
    "\n",
    "for key in bib_data.entries.keys():\n",
    "    print(key)\n",
    "    try:\n",
    "        author = bib_data.entries[key].persons['author']\n",
    "        FA = author[0].rich_first_names\n",
    "        print(str(FA)[7:-3])\n",
    "        LA = author[-1].rich_first_names\n",
    "        print(str(LA)[7:-3])\n",
    "    except:\n",
    "        author = bib_data.entries[key].persons['editor']\n",
    "        FA = author[0].rich_first_names\n",
    "        print(str(FA)[7:-3])\n",
    "        LA = author[-1].rich_first_names\n",
    "        print(str(LA)[7:-3])\n",
    "\n",
    "    with open(outPath, 'a', newline='') as csvfile:\n",
    "        writer = csv.writer(csvfile, delimiter=',',\n",
    "                                quotechar='|', quoting=csv.QUOTE_MINIMAL)\n",
    "        writer.writerow([counter, str(FA)[7:-3], str(LA)[7:-3]])\n",
    "\n",
    "    counter += 1"
   ]
  }
 ],
 "metadata": {
  "kernelspec": {
   "display_name": "Python 2",
   "language": "python",
   "name": "python2"
  },
  "language_info": {
   "codemirror_mode": {
    "name": "ipython",
    "version": 2
   },
   "file_extension": ".py",
   "mimetype": "text/x-python",
   "name": "python",
   "nbconvert_exporter": "python",
   "pygments_lexer": "ipython2",
   "version": "2.7.6"
  }
 },
 "nbformat": 4,
 "nbformat_minor": 0
}
